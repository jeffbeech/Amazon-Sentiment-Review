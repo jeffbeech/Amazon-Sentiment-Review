{
 "cells": [
  {
   "cell_type": "markdown",
   "id": "1a78e56c-55fc-4f98-95a6-148c60b8b22d",
   "metadata": {},
   "source": [
    "# Amazon Sentiment Review"
   ]
  },
  {
   "cell_type": "code",
   "execution_count": null,
   "id": "48896904-0458-4f33-a547-ddfe3b7202e9",
   "metadata": {},
   "outputs": [],
   "source": []
  }
 ],
 "metadata": {
  "kernelspec": {
   "display_name": "Python 3 (ipykernel)",
   "language": "python",
   "name": "python3"
  },
  "language_info": {
   "codemirror_mode": {
    "name": "ipython",
    "version": 3
   },
   "file_extension": ".py",
   "mimetype": "text/x-python",
   "name": "python",
   "nbconvert_exporter": "python",
   "pygments_lexer": "ipython3",
   "version": "3.9.7"
  }
 },
 "nbformat": 4,
 "nbformat_minor": 5
}
